{
 "cells": [
  {
   "cell_type": "code",
   "execution_count": null,
   "metadata": {
    "collapsed": true
   },
   "outputs": [],
   "source": [
    "## Data Initializing"
   ]
  },
  {
   "cell_type": "code",
   "execution_count": 1,
   "metadata": {
    "collapsed": true
   },
   "outputs": [],
   "source": [
    "import pandas as pd\n",
    "import numpy as np\n",
    "import data_handler as dh\n",
    "import model as md\n",
    "import time\n",
    "import matplotlib.pyplot as plt\n",
    "from matplotlib import rc\n",
    "import pickle"
   ]
  },
  {
   "cell_type": "code",
   "execution_count": 2,
   "metadata": {},
   "outputs": [
    {
     "data": {
      "text/html": [
       "<div>\n",
       "<style>\n",
       "    .dataframe thead tr:only-child th {\n",
       "        text-align: right;\n",
       "    }\n",
       "\n",
       "    .dataframe thead th {\n",
       "        text-align: left;\n",
       "    }\n",
       "\n",
       "    .dataframe tbody tr th {\n",
       "        vertical-align: top;\n",
       "    }\n",
       "</style>\n",
       "<table border=\"1\" class=\"dataframe\">\n",
       "  <thead>\n",
       "    <tr style=\"text-align: right;\">\n",
       "      <th></th>\n",
       "      <th>Init node</th>\n",
       "      <th>Term node</th>\n",
       "      <th>Capacity</th>\n",
       "      <th>Free Flow Time</th>\n",
       "    </tr>\n",
       "  </thead>\n",
       "  <tbody>\n",
       "    <tr>\n",
       "      <th>0</th>\n",
       "      <td>1</td>\n",
       "      <td>117</td>\n",
       "      <td>9000.0</td>\n",
       "      <td>1.090459</td>\n",
       "    </tr>\n",
       "    <tr>\n",
       "      <th>1</th>\n",
       "      <td>2</td>\n",
       "      <td>87</td>\n",
       "      <td>9000.0</td>\n",
       "      <td>1.090459</td>\n",
       "    </tr>\n",
       "    <tr>\n",
       "      <th>2</th>\n",
       "      <td>3</td>\n",
       "      <td>74</td>\n",
       "      <td>9000.0</td>\n",
       "      <td>1.090459</td>\n",
       "    </tr>\n",
       "    <tr>\n",
       "      <th>3</th>\n",
       "      <td>4</td>\n",
       "      <td>233</td>\n",
       "      <td>9000.0</td>\n",
       "      <td>1.090459</td>\n",
       "    </tr>\n",
       "    <tr>\n",
       "      <th>4</th>\n",
       "      <td>5</td>\n",
       "      <td>165</td>\n",
       "      <td>9000.0</td>\n",
       "      <td>1.090459</td>\n",
       "    </tr>\n",
       "  </tbody>\n",
       "</table>\n",
       "</div>"
      ],
      "text/plain": [
       "   Init node  Term node  Capacity  Free Flow Time\n",
       "0          1        117    9000.0        1.090459\n",
       "1          2         87    9000.0        1.090459\n",
       "2          3         74    9000.0        1.090459\n",
       "3          4        233    9000.0        1.090459\n",
       "4          5        165    9000.0        1.090459"
      ]
     },
     "execution_count": 2,
     "metadata": {},
     "output_type": "execute_result"
    }
   ],
   "source": [
    "net_name = 'Anaheim_net.tntp'\n",
    "trips_name = 'Anaheim_trips.tntp'\n",
    "\n",
    "handler = dh.DataHandler()\n",
    "graph_data = handler.GetGraphData(net_name, columns_order = np.array([0, 1, 2, 4]))\n",
    "graph_correspondences, total_od_flow = handler.GetGraphCorrespondences(trips_name)\n",
    "\n",
    "model = md.Model(graph_data, graph_correspondences, \n",
    "                    total_od_flow, mu = 0.25, rho = 0.15)\n",
    "\n",
    "graph_data['graph_table'].head()"
   ]
  },
  {
   "cell_type": "markdown",
   "metadata": {},
   "source": [
    "### For Beckman's model:"
   ]
  },
  {
   "cell_type": "markdown",
   "metadata": {},
   "source": [
    "### Universal similar triangles method"
   ]
  },
  {
   "cell_type": "code",
   "execution_count": 4,
   "metadata": {},
   "outputs": [
    {
     "name": "stdout",
     "output_type": "stream",
     "text": [
      "eps_abs = 10.0\n",
      "Oracles created...\n",
      "Universal similar triangles function...\n",
      "Primal_init = 1.26452e+06\n",
      "Dual_init = -1.17208e+06\n",
      "Duality_gap_init = 92434.2\n",
      "\n",
      "Iterations number: 1\n",
      "Inner iterations number: 1\n",
      "Primal_func_value = 1.26452e+06\n",
      "Dual_func_value = -1.17208e+06\n",
      "Duality_gap = 92434.2\n",
      "Duality_gap / Duality_gap_init = 1\n",
      "\n",
      "Iterations number: 100\n",
      "Inner iterations number: 1\n",
      "Primal_func_value = 1.2077e+06\n",
      "Dual_func_value = -1.20161e+06\n",
      "Duality_gap = 6095.51\n",
      "Duality_gap / Duality_gap_init = 0.0659443\n",
      "\n",
      "Iterations number: 200\n",
      "Inner iterations number: 1\n",
      "Primal_func_value = 1.2074e+06\n",
      "Dual_func_value = -1.20237e+06\n",
      "Duality_gap = 5023.31\n",
      "Duality_gap / Duality_gap_init = 0.0543448\n",
      "\n",
      "Iterations number: 300\n",
      "Inner iterations number: 2\n",
      "Primal_func_value = 1.20718e+06\n",
      "Dual_func_value = -1.20283e+06\n",
      "Duality_gap = 4347.75\n",
      "Duality_gap / Duality_gap_init = 0.0470362\n",
      "\n",
      "Iterations number: 400\n",
      "Inner iterations number: 3\n",
      "Primal_func_value = 1.207e+06\n",
      "Dual_func_value = -1.20329e+06\n",
      "Duality_gap = 3711.81\n",
      "Duality_gap / Duality_gap_init = 0.0401563\n",
      "\n",
      "Iterations number: 500\n",
      "Inner iterations number: 5\n",
      "Primal_func_value = 1.20657e+06\n",
      "Dual_func_value = -1.20372e+06\n",
      "Duality_gap = 2849.35\n",
      "Duality_gap / Duality_gap_init = 0.0308257\n",
      "\n",
      "Iterations number: 600\n",
      "Inner iterations number: 3\n",
      "Primal_func_value = 1.20591e+06\n",
      "Dual_func_value = -1.20425e+06\n",
      "Duality_gap = 1661.25\n",
      "Duality_gap / Duality_gap_init = 0.0179723\n",
      "\n",
      "Iterations number: 700\n",
      "Inner iterations number: 3\n",
      "Primal_func_value = 1.20581e+06\n",
      "Dual_func_value = -1.20461e+06\n",
      "Duality_gap = 1207.02\n",
      "Duality_gap / Duality_gap_init = 0.0130582\n",
      "\n",
      "Iterations number: 800\n",
      "Inner iterations number: 5\n",
      "Primal_func_value = 1.2058e+06\n",
      "Dual_func_value = -1.20472e+06\n",
      "Duality_gap = 1076.02\n",
      "Duality_gap / Duality_gap_init = 0.0116409\n",
      "\n",
      "Iterations number: 900\n",
      "Inner iterations number: 3\n",
      "Primal_func_value = 1.20579e+06\n",
      "Dual_func_value = -1.20483e+06\n",
      "Duality_gap = 957.929\n",
      "Duality_gap / Duality_gap_init = 0.0103634\n",
      "\n",
      "Iterations number: 1000\n",
      "Inner iterations number: 2\n",
      "Primal_func_value = 1.20579e+06\n",
      "Dual_func_value = -1.20492e+06\n",
      "Duality_gap = 864.828\n",
      "Duality_gap / Duality_gap_init = 0.00935615\n",
      "\n",
      "Iterations number: 1100\n",
      "Inner iterations number: 2\n",
      "Primal_func_value = 1.20579e+06\n",
      "Dual_func_value = -1.20499e+06\n",
      "Duality_gap = 797.289\n",
      "Duality_gap / Duality_gap_init = 0.00862548\n",
      "\n",
      "Iterations number: 1200\n",
      "Inner iterations number: 1\n",
      "Primal_func_value = 1.2058e+06\n",
      "Dual_func_value = -1.20508e+06\n",
      "Duality_gap = 724.325\n",
      "Duality_gap / Duality_gap_init = 0.00783612\n",
      "\n",
      "Iterations number: 1300\n",
      "Inner iterations number: 2\n",
      "Primal_func_value = 1.20569e+06\n",
      "Dual_func_value = -1.20518e+06\n",
      "Duality_gap = 510.235\n",
      "Duality_gap / Duality_gap_init = 0.00551998\n"
     ]
    },
    {
     "ename": "KeyboardInterrupt",
     "evalue": "",
     "output_type": "error",
     "traceback": [
      "\u001b[0;31m---------------------------------------------------------------------------\u001b[0m",
      "\u001b[0;31mKeyboardInterrupt\u001b[0m                         Traceback (most recent call last)",
      "\u001b[0;32m<ipython-input-4-119093f00781>\u001b[0m in \u001b[0;36m<module>\u001b[0;34m()\u001b[0m\n\u001b[1;32m      6\u001b[0m                      'max_iter': max_iter}\n\u001b[1;32m      7\u001b[0m     \u001b[0mtic\u001b[0m \u001b[0;34m=\u001b[0m \u001b[0mtime\u001b[0m\u001b[0;34m.\u001b[0m\u001b[0mtime\u001b[0m\u001b[0;34m(\u001b[0m\u001b[0;34m)\u001b[0m\u001b[0;34m\u001b[0m\u001b[0;34m\u001b[0m\u001b[0m\n\u001b[0;32m----> 8\u001b[0;31m     \u001b[0mresult\u001b[0m \u001b[0;34m=\u001b[0m \u001b[0mmodel\u001b[0m\u001b[0;34m.\u001b[0m\u001b[0mfind_equilibrium\u001b[0m\u001b[0;34m(\u001b[0m\u001b[0msolver_name\u001b[0m \u001b[0;34m=\u001b[0m \u001b[0;34m'ustf'\u001b[0m\u001b[0;34m,\u001b[0m \u001b[0msolver_kwargs\u001b[0m \u001b[0;34m=\u001b[0m \u001b[0msolver_kwargs\u001b[0m\u001b[0;34m,\u001b[0m \u001b[0mverbose\u001b[0m \u001b[0;34m=\u001b[0m \u001b[0;32mTrue\u001b[0m\u001b[0;34m)\u001b[0m\u001b[0;34m\u001b[0m\u001b[0;34m\u001b[0m\u001b[0m\n\u001b[0m\u001b[1;32m      9\u001b[0m     \u001b[0mtoc\u001b[0m \u001b[0;34m=\u001b[0m \u001b[0mtime\u001b[0m\u001b[0;34m.\u001b[0m\u001b[0mtime\u001b[0m\u001b[0;34m(\u001b[0m\u001b[0;34m)\u001b[0m\u001b[0;34m\u001b[0m\u001b[0;34m\u001b[0m\u001b[0m\n\u001b[1;32m     10\u001b[0m     \u001b[0mprint\u001b[0m\u001b[0;34m(\u001b[0m\u001b[0;34m'Elapsed time: {:.0f} sec'\u001b[0m\u001b[0;34m.\u001b[0m\u001b[0mformat\u001b[0m\u001b[0;34m(\u001b[0m\u001b[0mtoc\u001b[0m \u001b[0;34m-\u001b[0m \u001b[0mtic\u001b[0m\u001b[0;34m)\u001b[0m\u001b[0;34m)\u001b[0m\u001b[0;34m\u001b[0m\u001b[0;34m\u001b[0m\u001b[0m\n",
      "\u001b[0;32m~/Meruza/TransportNet/TransportNet-master_dec_2019/Stable Dynamic & Beckman/model.py\u001b[0m in \u001b[0;36mfind_equilibrium\u001b[0;34m(self, solver_name, solver_kwargs, verbose)\u001b[0m\n\u001b[1;32m     62\u001b[0m                                  \u001b[0mprimal_dual_calculator\u001b[0m\u001b[0;34m,\u001b[0m\u001b[0;34m\u001b[0m\u001b[0;34m\u001b[0m\u001b[0m\n\u001b[1;32m     63\u001b[0m                                  \u001b[0mt_start\u001b[0m \u001b[0;34m=\u001b[0m \u001b[0mself\u001b[0m\u001b[0;34m.\u001b[0m\u001b[0mgraph\u001b[0m\u001b[0;34m.\u001b[0m\u001b[0mfreeflow_times\u001b[0m\u001b[0;34m,\u001b[0m\u001b[0;34m\u001b[0m\u001b[0;34m\u001b[0m\u001b[0m\n\u001b[0;32m---> 64\u001b[0;31m                                  verbose = verbose, **solver_kwargs)\n\u001b[0m\u001b[1;32m     65\u001b[0m \u001b[0;34m\u001b[0m\u001b[0m\n\u001b[1;32m     66\u001b[0m         \u001b[0;32mreturn\u001b[0m \u001b[0mresult\u001b[0m\u001b[0;34m\u001b[0m\u001b[0;34m\u001b[0m\u001b[0m\n",
      "\u001b[0;32m~/Meruza/TransportNet/TransportNet-master_dec_2019/Stable Dynamic & Beckman/universal_similar_triangles_function.py\u001b[0m in \u001b[0;36muniversal_similar_triangles_function\u001b[0;34m(phi_big_oracle, prox_h, primal_dual_oracle, t_start, L_init, max_iter, crit_name, eps, eps_abs, verbose)\u001b[0m\n\u001b[1;32m     64\u001b[0m \u001b[0;34m\u001b[0m\u001b[0m\n\u001b[1;32m     65\u001b[0m             \u001b[0my\u001b[0m \u001b[0;34m=\u001b[0m \u001b[0;34m(\u001b[0m\u001b[0malpha\u001b[0m \u001b[0;34m*\u001b[0m \u001b[0mu_prev\u001b[0m \u001b[0;34m+\u001b[0m \u001b[0mA_prev\u001b[0m \u001b[0;34m*\u001b[0m \u001b[0mt_prev\u001b[0m\u001b[0;34m)\u001b[0m \u001b[0;34m/\u001b[0m \u001b[0mA\u001b[0m\u001b[0;34m\u001b[0m\u001b[0;34m\u001b[0m\u001b[0m\n\u001b[0;32m---> 66\u001b[0;31m             \u001b[0mphi_grad_y\u001b[0m \u001b[0;34m=\u001b[0m \u001b[0mphi_big_oracle\u001b[0m\u001b[0;34m.\u001b[0m\u001b[0mgrad\u001b[0m\u001b[0;34m(\u001b[0m\u001b[0my\u001b[0m\u001b[0;34m)\u001b[0m\u001b[0;34m\u001b[0m\u001b[0;34m\u001b[0m\u001b[0m\n\u001b[0m\u001b[1;32m     67\u001b[0m             \u001b[0mgrad_sum\u001b[0m \u001b[0;34m=\u001b[0m \u001b[0mgrad_sum_prev\u001b[0m \u001b[0;34m+\u001b[0m \u001b[0malpha\u001b[0m \u001b[0;34m*\u001b[0m \u001b[0mphi_grad_y\u001b[0m\u001b[0;34m\u001b[0m\u001b[0;34m\u001b[0m\u001b[0m\n\u001b[1;32m     68\u001b[0m             \u001b[0mu\u001b[0m \u001b[0;34m=\u001b[0m \u001b[0mprox_h\u001b[0m\u001b[0;34m(\u001b[0m\u001b[0my_start\u001b[0m \u001b[0;34m-\u001b[0m \u001b[0mgrad_sum\u001b[0m\u001b[0;34m,\u001b[0m \u001b[0mA\u001b[0m\u001b[0;34m,\u001b[0m \u001b[0mu_start\u001b[0m \u001b[0;34m=\u001b[0m \u001b[0mu_prev\u001b[0m\u001b[0;34m)\u001b[0m\u001b[0;34m\u001b[0m\u001b[0;34m\u001b[0m\u001b[0m\n",
      "\u001b[0;32m~/Meruza/TransportNet/TransportNet-master_dec_2019/Stable Dynamic & Beckman/oracles.py\u001b[0m in \u001b[0;36mgrad\u001b[0;34m(self, t_parameter)\u001b[0m\n\u001b[1;32m    125\u001b[0m         \u001b[0mself\u001b[0m\u001b[0;34m.\u001b[0m\u001b[0mgrad_current\u001b[0m \u001b[0;34m=\u001b[0m \u001b[0mnp\u001b[0m\u001b[0;34m.\u001b[0m\u001b[0mzeros\u001b[0m\u001b[0;34m(\u001b[0m\u001b[0mself\u001b[0m\u001b[0;34m.\u001b[0m\u001b[0mgraph\u001b[0m\u001b[0;34m.\u001b[0m\u001b[0mlinks_number\u001b[0m\u001b[0;34m)\u001b[0m\u001b[0;34m\u001b[0m\u001b[0;34m\u001b[0m\u001b[0m\n\u001b[1;32m    126\u001b[0m         \u001b[0;32mfor\u001b[0m \u001b[0mauto_oracle\u001b[0m \u001b[0;32min\u001b[0m \u001b[0mself\u001b[0m\u001b[0;34m.\u001b[0m\u001b[0mauto_oracles\u001b[0m\u001b[0;34m:\u001b[0m\u001b[0;34m\u001b[0m\u001b[0;34m\u001b[0m\u001b[0m\n\u001b[0;32m--> 127\u001b[0;31m             \u001b[0mself\u001b[0m\u001b[0;34m.\u001b[0m\u001b[0mgrad_current\u001b[0m \u001b[0;34m+=\u001b[0m \u001b[0mauto_oracle\u001b[0m\u001b[0;34m.\u001b[0m\u001b[0mgrad\u001b[0m\u001b[0;34m(\u001b[0m\u001b[0mself\u001b[0m\u001b[0;34m.\u001b[0m\u001b[0mt_current\u001b[0m\u001b[0;34m)\u001b[0m\u001b[0;34m\u001b[0m\u001b[0;34m\u001b[0m\u001b[0m\n\u001b[0m\u001b[1;32m    128\u001b[0m         \u001b[0mself\u001b[0m\u001b[0;34m.\u001b[0m\u001b[0mtime\u001b[0m \u001b[0;34m+=\u001b[0m \u001b[0mtime\u001b[0m\u001b[0;34m.\u001b[0m\u001b[0mtime\u001b[0m\u001b[0;34m(\u001b[0m\u001b[0;34m)\u001b[0m \u001b[0;34m-\u001b[0m \u001b[0mtic\u001b[0m\u001b[0;34m\u001b[0m\u001b[0;34m\u001b[0m\u001b[0m\n\u001b[1;32m    129\u001b[0m         \u001b[0;32mreturn\u001b[0m \u001b[0mself\u001b[0m\u001b[0;34m.\u001b[0m\u001b[0mgrad_current\u001b[0m\u001b[0;34m\u001b[0m\u001b[0;34m\u001b[0m\u001b[0m\n",
      "\u001b[0;32m~/Meruza/TransportNet/TransportNet-master_dec_2019/Stable Dynamic & Beckman/oracles.py\u001b[0m in \u001b[0;36mgrad\u001b[0;34m(self, t_parameter)\u001b[0m\n\u001b[1;32m     78\u001b[0m         \u001b[0mpred_edges\u001b[0m \u001b[0;34m=\u001b[0m \u001b[0;34m[\u001b[0m\u001b[0mself\u001b[0m\u001b[0;34m.\u001b[0m\u001b[0mgraph\u001b[0m\u001b[0;34m.\u001b[0m\u001b[0mpred_to_edge\u001b[0m\u001b[0;34m[\u001b[0m\u001b[0mvertex\u001b[0m\u001b[0;34m]\u001b[0m\u001b[0;34m[\u001b[0m\u001b[0mself\u001b[0m\u001b[0;34m.\u001b[0m\u001b[0mpred_map\u001b[0m\u001b[0;34m[\u001b[0m\u001b[0mvertex\u001b[0m\u001b[0;34m]\u001b[0m\u001b[0;34m]\u001b[0m \u001b[0;32mfor\u001b[0m \u001b[0mvertex\u001b[0m \u001b[0;32min\u001b[0m \u001b[0msorted_vertices\u001b[0m\u001b[0;34m]\u001b[0m\u001b[0;34m\u001b[0m\u001b[0;34m\u001b[0m\u001b[0m\n\u001b[1;32m     79\u001b[0m         flows = get_flows(self.graph.nodes_number, self.graph.links_number, \n\u001b[0;32m---> 80\u001b[0;31m                           self.corr_targets, self.corr_values, self.pred_map, pred_edges, sorted_vertices)\n\u001b[0m\u001b[1;32m     81\u001b[0m         \u001b[0;32mreturn\u001b[0m \u001b[0;34m-\u001b[0m \u001b[0mflows\u001b[0m\u001b[0;34m\u001b[0m\u001b[0;34m\u001b[0m\u001b[0m\n\u001b[1;32m     82\u001b[0m \u001b[0;34m\u001b[0m\u001b[0m\n",
      "\u001b[0;32m~/anaconda3/lib/python3.6/site-packages/numba/typing/typeof.py\u001b[0m in \u001b[0;36mtypeof\u001b[0;34m(val, purpose)\u001b[0m\n\u001b[1;32m     28\u001b[0m     \u001b[0;31m# Note the behaviour for Purpose.argument must match _typeof.c.\u001b[0m\u001b[0;34m\u001b[0m\u001b[0;34m\u001b[0m\u001b[0;34m\u001b[0m\u001b[0m\n\u001b[1;32m     29\u001b[0m     \u001b[0mc\u001b[0m \u001b[0;34m=\u001b[0m \u001b[0m_TypeofContext\u001b[0m\u001b[0;34m(\u001b[0m\u001b[0mpurpose\u001b[0m\u001b[0;34m)\u001b[0m\u001b[0;34m\u001b[0m\u001b[0;34m\u001b[0m\u001b[0m\n\u001b[0;32m---> 30\u001b[0;31m     \u001b[0mty\u001b[0m \u001b[0;34m=\u001b[0m \u001b[0mtypeof_impl\u001b[0m\u001b[0;34m(\u001b[0m\u001b[0mval\u001b[0m\u001b[0;34m,\u001b[0m \u001b[0mc\u001b[0m\u001b[0;34m)\u001b[0m\u001b[0;34m\u001b[0m\u001b[0;34m\u001b[0m\u001b[0m\n\u001b[0m\u001b[1;32m     31\u001b[0m     \u001b[0;32mif\u001b[0m \u001b[0mty\u001b[0m \u001b[0;32mis\u001b[0m \u001b[0;32mNone\u001b[0m\u001b[0;34m:\u001b[0m\u001b[0;34m\u001b[0m\u001b[0;34m\u001b[0m\u001b[0m\n\u001b[1;32m     32\u001b[0m         msg = _termcolor.errmsg(\n",
      "\u001b[0;32m~/anaconda3/lib/python3.6/functools.py\u001b[0m in \u001b[0;36mwrapper\u001b[0;34m(*args, **kw)\u001b[0m\n\u001b[1;32m    805\u001b[0m                             '1 positional argument')\n\u001b[1;32m    806\u001b[0m \u001b[0;34m\u001b[0m\u001b[0m\n\u001b[0;32m--> 807\u001b[0;31m         \u001b[0;32mreturn\u001b[0m \u001b[0mdispatch\u001b[0m\u001b[0;34m(\u001b[0m\u001b[0margs\u001b[0m\u001b[0;34m[\u001b[0m\u001b[0;36m0\u001b[0m\u001b[0;34m]\u001b[0m\u001b[0;34m.\u001b[0m\u001b[0m__class__\u001b[0m\u001b[0;34m)\u001b[0m\u001b[0;34m(\u001b[0m\u001b[0;34m*\u001b[0m\u001b[0margs\u001b[0m\u001b[0;34m,\u001b[0m \u001b[0;34m**\u001b[0m\u001b[0mkw\u001b[0m\u001b[0;34m)\u001b[0m\u001b[0;34m\u001b[0m\u001b[0;34m\u001b[0m\u001b[0m\n\u001b[0m\u001b[1;32m    808\u001b[0m \u001b[0;34m\u001b[0m\u001b[0m\n\u001b[1;32m    809\u001b[0m     \u001b[0mfuncname\u001b[0m \u001b[0;34m=\u001b[0m \u001b[0mgetattr\u001b[0m\u001b[0;34m(\u001b[0m\u001b[0mfunc\u001b[0m\u001b[0;34m,\u001b[0m \u001b[0;34m'__name__'\u001b[0m\u001b[0;34m,\u001b[0m \u001b[0;34m'singledispatch function'\u001b[0m\u001b[0;34m)\u001b[0m\u001b[0;34m\u001b[0m\u001b[0;34m\u001b[0m\u001b[0m\n",
      "\u001b[0;32m~/anaconda3/lib/python3.6/functools.py\u001b[0m in \u001b[0;36mdispatch\u001b[0;34m(cls)\u001b[0m\n\u001b[1;32m    762\u001b[0m     \u001b[0mcache_token\u001b[0m \u001b[0;34m=\u001b[0m \u001b[0;32mNone\u001b[0m\u001b[0;34m\u001b[0m\u001b[0;34m\u001b[0m\u001b[0m\n\u001b[1;32m    763\u001b[0m \u001b[0;34m\u001b[0m\u001b[0m\n\u001b[0;32m--> 764\u001b[0;31m     \u001b[0;32mdef\u001b[0m \u001b[0mdispatch\u001b[0m\u001b[0;34m(\u001b[0m\u001b[0mcls\u001b[0m\u001b[0;34m)\u001b[0m\u001b[0;34m:\u001b[0m\u001b[0;34m\u001b[0m\u001b[0;34m\u001b[0m\u001b[0m\n\u001b[0m\u001b[1;32m    765\u001b[0m         \"\"\"generic_func.dispatch(cls) -> <function implementation>\n\u001b[1;32m    766\u001b[0m \u001b[0;34m\u001b[0m\u001b[0m\n",
      "\u001b[0;31mKeyboardInterrupt\u001b[0m: "
     ]
    }
   ],
   "source": [
    "model.mu = 0.25\n",
    "max_iter = 10000\n",
    "for i, eps_abs in enumerate(np.logspace(1,3,5)[0:2]):\n",
    "    print('eps_abs =', eps_abs)\n",
    "    solver_kwargs = {'eps_abs': eps_abs,\n",
    "                     'max_iter': max_iter}\n",
    "    tic = time.time()\n",
    "    result = model.find_equilibrium(solver_name = 'ustf', solver_kwargs = solver_kwargs, verbose = True) #verbose = False\n",
    "    toc = time.time()\n",
    "    print('Elapsed time: {:.0f} sec'.format(toc - tic))\n",
    "    \n",
    "    print('Time ratio =', np.max(result['times'] / graph_data['graph_table']['Free Flow Time']))\n",
    "    print('Flow excess =', np.max(result['flows'] / graph_data['graph_table']['Capacity']) - 1, end = '\\n\\n')\n",
    "    \n",
    "    result['eps_abs'] = eps_abs\n",
    "    #with open('anaheim_result_' + 'ustf' + '_#' + str(i) + '_max_iter_' + str(max_iter) + \n",
    "    #          '_Beckman.pickle', 'wb') as f:\n",
    "    #    pickle.dump(result, f)\n",
    "    #these results in 'results' folder"
   ]
  },
  {
   "cell_type": "markdown",
   "metadata": {},
   "source": [
    "### Frank-Wolfe algorithm"
   ]
  },
  {
   "cell_type": "code",
   "execution_count": 7,
   "metadata": {},
   "outputs": [
    {
     "name": "stdout",
     "output_type": "stream",
     "text": [
      "Frank-Wolfe without stopping criteria\n",
      "L_init =  1.0\n",
      "Elapsed time: 1185 sec\n",
      "Time ratio = 2.9107237337629295\n",
      "Flow excess = 0.8891944444444517\n",
      "\n"
     ]
    }
   ],
   "source": [
    "model.mu = 0.25\n",
    "max_iter = 10000\n",
    "\n",
    "print('Frank-Wolfe without stopping criteria')\n",
    "solver_kwargs = {'max_iter': max_iter}\n",
    "tic = time.time()\n",
    "result = model.find_equilibrium(solver_name = 'fwa', solver_kwargs = solver_kwargs, verbose = False)\n",
    "toc = time.time()\n",
    "print('Elapsed time: {:.0f} sec'.format(toc - tic))\n",
    "\n",
    "print('Time ratio =', np.max(result['times'] / graph_data['graph_table']['Free Flow Time']))\n",
    "print('Flow excess =', np.max(result['flows'] / graph_data['graph_table']['Capacity']) - 1, end = '\\n\\n')\n",
    "\n",
    "with open('anaheim_result_' + 'fwa' + '_max_iter_' + str(max_iter) + \n",
    "          '_Beckman.pickle', 'wb') as f:\n",
    "    pickle.dump(result, f)"
   ]
  },
  {
   "cell_type": "markdown",
   "metadata": {},
   "source": [
    "### experiments for Beckman model end here."
   ]
  }
 ],
 "metadata": {
  "kernelspec": {
   "display_name": "Python 3",
   "language": "python",
   "name": "python3"
  },
  "language_info": {
   "codemirror_mode": {
    "name": "ipython",
    "version": 3
   },
   "file_extension": ".py",
   "mimetype": "text/x-python",
   "name": "python",
   "nbconvert_exporter": "python",
   "pygments_lexer": "ipython3",
   "version": "3.6.7"
  }
 },
 "nbformat": 4,
 "nbformat_minor": 2
}
